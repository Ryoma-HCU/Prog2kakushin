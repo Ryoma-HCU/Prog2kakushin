{
  "nbformat": 4,
  "nbformat_minor": 0,
  "metadata": {
    "colab": {
      "provenance": [],
      "authorship_tag": "ABX9TyM+cm/xLG4IabtojcFyMinO",
      "include_colab_link": true
    },
    "kernelspec": {
      "name": "python3",
      "display_name": "Python 3"
    },
    "language_info": {
      "name": "python"
    }
  },
  "cells": [
    {
      "cell_type": "markdown",
      "metadata": {
        "id": "view-in-github",
        "colab_type": "text"
      },
      "source": [
        "<a href=\"https://colab.research.google.com/github/Ryoma-HCU/Prog2kakushin/blob/main/work1.ipynb\" target=\"_parent\"><img src=\"https://colab.research.google.com/assets/colab-badge.svg\" alt=\"Open In Colab\"/></a>"
      ]
    },
    {
      "cell_type": "markdown",
      "source": [
        "Pandasを用いた課題プログラムの作成\n",
        "\n",
        "入力された母平均・母標準偏差により生成された乱数の母集団から，入力された個数抽出した標本を元に母集団の推定を行うプログラム．"
      ],
      "metadata": {
        "id": "iXVuwaVxM54u"
      }
    },
    {
      "cell_type": "code",
      "execution_count": 19,
      "metadata": {
        "id": "05pYwfkYMvb-",
        "colab": {
          "base_uri": "https://localhost:8080/",
          "height": 592
        },
        "outputId": "802528da-d28c-40e7-f648-7455cd089c57"
      },
      "outputs": [
        {
          "output_type": "stream",
          "name": "stdout",
          "text": [
            "母平均を入力してください：20\n",
            "母標準偏差を入力してください：2\n",
            "\n",
            "標本数を入力してください：100\n",
            "信頼度を入力してください [％]：95\n",
            "母標準偏差は判明しているものとする [ YES | NO ]：NO\n",
            "-1.9842169515086827 1.9842169515086827\n"
          ]
        },
        {
          "output_type": "execute_result",
          "data": {
            "text/plain": [
              "<function matplotlib.pyplot.show(close=None, block=None)>"
            ]
          },
          "metadata": {},
          "execution_count": 19
        },
        {
          "output_type": "display_data",
          "data": {
            "text/plain": [
              "<Figure size 640x480 with 1 Axes>"
            ],
            "image/png": "[encoded data removed]"
          },
          "metadata": {}
        }
      ],
      "source": [
        "import pandas as pd\n",
        "from scipy import stats\n",
        "from matplotlib import pyplot as plt\n",
        "import random\n",
        "import numpy as np\n",
        "\n",
        "\n",
        "def random_generator(ave,sig):\n",
        "  df_uni = pd.DataFrame()\n",
        "  for N in range(10000):\n",
        "    new_row = {\"母集団値\" : np.random.normal(ave,sig)}\n",
        "    df_new = pd.DataFrame(new_row, index=[0])\n",
        "    df_uni = pd.concat([df_uni, df_new], ignore_index=True )\n",
        "  return df_uni\n",
        "\n",
        "def estimation_Norm(n,CI):\n",
        "  df_samp = pd.DataFrame()\n",
        "  low, high = stats.norm.interval(confidence=CI/100.0, loc=0.0, scale=1.0)\n",
        "  print(low,high)\n",
        "  return df_samp\n",
        "\n",
        "def estimation_T(n,CI):\n",
        "  df_samp = pd.DataFrame()\n",
        "  low, high = stats.t.interval(confidence=CI/100.0, loc=0.0, scale=1.0, df=n-1)\n",
        "  print(low,high)\n",
        "  return df_samp\n",
        "\n",
        "\n",
        "average = float(input(\"母平均を入力してください：\"))\n",
        "sigma = float(input(\"母標準偏差を入力してください：\"))\n",
        "df_universe = random_generator(average,sigma)\n",
        "print(\"\")\n",
        "n = int(input(\"標本数を入力してください：\"))\n",
        "confidence = float(input(\"信頼度を入力してください [％]：\"))\n",
        "while True:\n",
        "  known = input(\"母標準偏差は判明しているものとする [ YES | NO ]：\")\n",
        "  if known == \"YES\":\n",
        "    e_ave = estimation_Norm(n,confidence)\n",
        "    break\n",
        "  elif known == \"NO\":\n",
        "    e_ave = estimation_T(n,confidence)\n",
        "    break\n",
        "  else :\n",
        "    print(\"YES か NO を入力してください．\")\n",
        "\n",
        "\n",
        "uni_max = df_universe[\"母集団値\"].max()\n",
        "uni_min = df_universe[\"母集団値\"].min()\n",
        "plt.hist(df_universe[\"母集団値\"], range=(uni_min,uni_max), bins=(int(uni_max) - int(uni_min)))\n",
        "plt.xlabel(str(format(average,\".1f\")) + \" ± X\")\n",
        "plt.ylabel(\"N( \" + str(format(average,\".1f\")) + \", \" + str(format(sigma,\".1f\")) + \"² )\")\n",
        "plt.show"
      ]
    }
  ]
}